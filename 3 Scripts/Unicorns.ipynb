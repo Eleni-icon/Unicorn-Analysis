{
 "cells": [
  {
   "cell_type": "code",
   "execution_count": 16,
   "id": "3452ef33",
   "metadata": {},
   "outputs": [],
   "source": [
    "#Importing Libraries\n",
    "import pandas as pd\n",
    "import numpy as np\n",
    "import os\n",
    "import matplotlib.pyplot as plt\n",
    "import seaborn as sns\n",
    "import re"
   ]
  },
  {
   "cell_type": "code",
   "execution_count": 17,
   "id": "8bc58f92",
   "metadata": {},
   "outputs": [],
   "source": [
    "# Adjust the path\n",
    "unicorns_csv_path= '/Users/eleni_icon/Unicorns/2 Data/Raw data/List of Unicorns in the World.csv'\n",
    "unicorns_data =pd.read_csv(unicorns_csv_path)"
   ]
  },
  {
   "cell_type": "code",
   "execution_count": 18,
   "id": "e52fe7b8",
   "metadata": {},
   "outputs": [
    {
     "data": {
      "text/plain": [
       "(Unnamed: 0         int64\n",
       " Company           object\n",
       " Valuation ($B)    object\n",
       " Date Joined       object\n",
       " Country           object\n",
       " City              object\n",
       " Industry          object\n",
       " dtype: object,\n",
       " Unnamed: 0        0\n",
       " Company           0\n",
       " Valuation ($B)    0\n",
       " Date Joined       0\n",
       " Country           0\n",
       " City              0\n",
       " Industry          0\n",
       " dtype: int64)"
      ]
     },
     "execution_count": 18,
     "metadata": {},
     "output_type": "execute_result"
    }
   ],
   "source": [
    "# Check initial data types and missing values in the dataset\n",
    "initial_data_types = unicorns_data.dtypes\n",
    "missing_values = unicorns_data.isnull().sum()\n",
    "\n",
    "initial_data_types, missing_values"
   ]
  },
  {
   "cell_type": "code",
   "execution_count": 19,
   "id": "ebb566dc",
   "metadata": {},
   "outputs": [],
   "source": [
    "# Remove the 'Unnamed: 0' column as it is redundant\n",
    "unicorns_data.drop(columns=['Unnamed: 0'], inplace=True)"
   ]
  },
  {
   "cell_type": "code",
   "execution_count": 20,
   "id": "c5500039",
   "metadata": {},
   "outputs": [],
   "source": [
    "# Convert 'Valuation ($B)' to numeric by removing '$' and 'B', then converting to float\n",
    "unicorns_data['Valuation ($B)'] = unicorns_data['Valuation ($B)'].replace('[\\$,B]', '', regex=True).astype(float)"
   ]
  },
  {
   "cell_type": "code",
   "execution_count": 21,
   "id": "0ace273e",
   "metadata": {},
   "outputs": [],
   "source": [
    "# Convert 'Date Joined' to datetime format\n",
    "unicorns_data['Date Joined'] = pd.to_datetime(unicorns_data['Date Joined'])"
   ]
  },
  {
   "cell_type": "code",
   "execution_count": 22,
   "id": "6b66d55a",
   "metadata": {},
   "outputs": [
    {
     "data": {
      "text/plain": [
       "(     Company  Valuation ($B) Date Joined        Country            City  \\\n",
       " 0  ByteDance           225.0  2017-04-07          China         Beijing   \n",
       " 1     SpaceX           150.0  2012-12-01  United States       Hawthorne   \n",
       " 2     OpenAI            80.0  2019-07-22  United States   San Francisco   \n",
       " 3      SHEIN            66.0  2018-07-03      Singapore  Singapore City   \n",
       " 4     Stripe            65.0  2014-01-23  United States   San Francisco   \n",
       " \n",
       "                 Industry  \n",
       " 0  Media & Entertainment  \n",
       " 1            Industrials  \n",
       " 2        Enterprise Tech  \n",
       " 3      Consumer & Retail  \n",
       " 4     Financial Services  ,\n",
       " Company                   object\n",
       " Valuation ($B)           float64\n",
       " Date Joined       datetime64[ns]\n",
       " Country                   object\n",
       " City                      object\n",
       " Industry                  object\n",
       " dtype: object)"
      ]
     },
     "execution_count": 22,
     "metadata": {},
     "output_type": "execute_result"
    }
   ],
   "source": [
    "# Verify the changes\n",
    "cleaned_data_types = unicorns_data.dtypes\n",
    "unicorns_data.head(), cleaned_data_types"
   ]
  },
  {
   "cell_type": "markdown",
   "id": "415be202",
   "metadata": {},
   "source": [
    "# Descriptive Statistics"
   ]
  },
  {
   "cell_type": "code",
   "execution_count": 23,
   "id": "be092a86",
   "metadata": {},
   "outputs": [],
   "source": [
    "# Calculating descriptive statistics for the 'Valuation ($B)' column\n",
    "valuation_stats = unicorns_data['Valuation ($B)'].describe()"
   ]
  },
  {
   "cell_type": "code",
   "execution_count": 24,
   "id": "8688c3f1",
   "metadata": {},
   "outputs": [],
   "source": [
    "# Calculating the earliest and most recent dates companies joined the unicorn status\n",
    "earliest_date = unicorns_data['Date Joined'].min()\n",
    "most_recent_date = unicorns_data['Date Joined'].max()"
   ]
  },
  {
   "cell_type": "code",
   "execution_count": 25,
   "id": "29a61869",
   "metadata": {},
   "outputs": [],
   "source": [
    "# Counting the number of unicorns per country and industry\n",
    "unicorns_per_country = unicorns_data['Country'].value_counts()\n",
    "unicorns_per_industry = unicorns_data['Industry'].value_counts()"
   ]
  },
  {
   "cell_type": "code",
   "execution_count": 26,
   "id": "eab7cda9",
   "metadata": {},
   "outputs": [
    {
     "data": {
      "text/plain": [
       "(count    1233.000000\n",
       " mean        3.124501\n",
       " std         8.871706\n",
       " min         1.000000\n",
       " 25%         1.080000\n",
       " 50%         1.500000\n",
       " 75%         3.000000\n",
       " max       225.000000\n",
       " Name: Valuation ($B), dtype: float64,\n",
       " Timestamp('2007-07-02 00:00:00'),\n",
       " Timestamp('2024-03-26 00:00:00'),\n",
       " Country\n",
       " United States           656\n",
       " China                   168\n",
       " India                    71\n",
       " United Kingdom           54\n",
       " Germany                  31\n",
       " France                   26\n",
       " Israel                   25\n",
       " Canada                   21\n",
       " Brazil                   17\n",
       " Singapore                17\n",
       " South Korea              15\n",
       " Australia                 9\n",
       " Netherlands               9\n",
       " Mexico                    8\n",
       " Hong Kong                 7\n",
       " Ireland                   7\n",
       " Japan                     7\n",
       " Indonesia                 7\n",
       " Switzerland               6\n",
       " Sweden                    6\n",
       " Spain                     5\n",
       " United Arab Emirates      5\n",
       " Finland                   4\n",
       " Norway                    4\n",
       " Italy                     3\n",
       " Belgium                   3\n",
       " Colombia                  3\n",
       " Thailand                  3\n",
       " Turkey                    3\n",
       " Austria                   2\n",
       " Denmark                   2\n",
       " Croatia                   2\n",
       " Seychelles                2\n",
       " Vietnam                   2\n",
       " Greece                    2\n",
       " Chile                     2\n",
       " Estonia                   2\n",
       " Lithuania                 2\n",
       " Cayman Islands            1\n",
       " Liechtenstein             1\n",
       " Saudi Arabia              1\n",
       " Egypt                     1\n",
       " Uzbekistan                1\n",
       " Czech Republic            1\n",
       " Luxembourg                1\n",
       " Ecuador                   1\n",
       " South Africa              1\n",
       " Bermuda                   1\n",
       " Malaysia                  1\n",
       " Senegal                   1\n",
       " Nigeria                   1\n",
       " Argentina                 1\n",
       " Philippines               1\n",
       " Name: count, dtype: int64,\n",
       " Industry\n",
       " Enterprise Tech               388\n",
       " Financial Services            220\n",
       " Consumer & Retail             213\n",
       " Industrials                   185\n",
       " Healthcare & Life Sciences    117\n",
       " Media & Entertainment          83\n",
       " Insurance                      26\n",
       " Health                          1\n",
       " Name: count, dtype: int64,\n",
       " Year Joined\n",
       " 2007      1\n",
       " 2011      1\n",
       " 2012      4\n",
       " 2013      3\n",
       " 2014     10\n",
       " 2015     33\n",
       " 2016     18\n",
       " 2017     38\n",
       " 2018     90\n",
       " 2019     93\n",
       " 2020     97\n",
       " 2021    503\n",
       " 2022    254\n",
       " 2023     69\n",
       " 2024     19\n",
       " Name: count, dtype: int64)"
      ]
     },
     "execution_count": 26,
     "metadata": {},
     "output_type": "execute_result"
    }
   ],
   "source": [
    "# Counting the number of new unicorns per year\n",
    "unicorns_data['Year Joined'] = unicorns_data['Date Joined'].dt.year\n",
    "unicorns_per_year = unicorns_data['Year Joined'].value_counts().sort_index()\n",
    "\n",
    "valuation_stats, earliest_date, most_recent_date, unicorns_per_country, unicorns_per_industry, unicorns_per_year"
   ]
  },
  {
   "cell_type": "markdown",
   "id": "9c75602a",
   "metadata": {},
   "source": [
    "Data Profile Summary\n",
    "Descriptive Statistics for Valuation:\n",
    "\n",
    "Count: 1233 companies\n",
    "\n",
    "Mean Valuation: $3.12 billion\n",
    "\n",
    "Median Valuation: $1.5 billion\n",
    "\n",
    "Minimum Valuation: $1 billion\n",
    "\n",
    "Maximum Valuation: $225 billion\n",
    "\n",
    "Standard Deviation: $8.87 billion"
   ]
  },
  {
   "cell_type": "markdown",
   "id": "5a5331e5",
   "metadata": {},
   "source": [
    "Timeline Analysis:\n",
    "\n",
    "Earliest Unicorn: Joined on July 2, 2007\n",
    "    \n",
    "Most Recent Unicorn: Joined on March 26, 2024\n",
    "\n",
    "Frequency of Companies Achieving Unicorn Status per Year:\n",
    "\n",
    "The number of unicorns peaked in 2021 with 503 new companies achieving this status.\n",
    "After a peak in 2021, there was a noticeable decrease in new unicorns in the following years."
   ]
  },
  {
   "cell_type": "markdown",
   "id": "89a2cf39",
   "metadata": {},
   "source": [
    "Distribution by Geography and Sector:\n",
    "\n",
    "Countries with Most Unicorns: United States (656), China (168), India (71)\n",
    "    \n",
    "Industries with Most Unicorns: Enterprise Tech (388), Financial Services (220), Consumer & Retail (213)"
   ]
  },
  {
   "cell_type": "code",
   "execution_count": 27,
   "id": "064214f3",
   "metadata": {},
   "outputs": [],
   "source": [
    "# Save the cleaned dataset to a new CSV file\n",
    "unicorns_data.to_csv('/Users/eleni_icon/Unicorns/2 Data/Prepared data/Cleaned_Unicorns_Data.csv', index=False)"
   ]
  },
  {
   "cell_type": "code",
   "execution_count": null,
   "id": "a2616fdf",
   "metadata": {},
   "outputs": [],
   "source": []
  }
 ],
 "metadata": {
  "kernelspec": {
   "display_name": "Python (notebook)",
   "language": "python",
   "name": "notebook"
  },
  "language_info": {
   "codemirror_mode": {
    "name": "ipython",
    "version": 3
   },
   "file_extension": ".py",
   "mimetype": "text/x-python",
   "name": "python",
   "nbconvert_exporter": "python",
   "pygments_lexer": "ipython3",
   "version": "3.11.9"
  }
 },
 "nbformat": 4,
 "nbformat_minor": 5
}
